{
 "cells": [
  {
   "cell_type": "markdown",
   "metadata": {},
   "source": [
    "# 大作业2 网页爬取和解析\n",
    "\n",
    "## 作业要求：\n",
    "\n",
    "使用面对对象编程的方式，分别完成以下任务：\n",
    "\n",
    "1. 从网上抓取一部金庸小说的所有章节，将每个章节对应的网页，保存到本地。（需提交抓取到的网页文件）\n",
    "\n",
    "2. 在抓取的基础上，对抓取的网页进行处理，提取小说正文，保存到本地。（需提交抓取到的正文文本文件）\n",
    "\n",
    "3. 对小说正文进行分词，统计词频和人物在每个章节中出现次数（参考作业5和作业6）。并将其分别以csv文件的形式，保存到文件中。（需分别提交两个csv文件）\n",
    "\n",
    "## 注意事项：\n",
    "\n",
    "1. 需要使用面向对象的方式完成此次作业。在编程过程中需要定义三个或以上的自定义类，并设计相应的属性、方法。例如，可以针对爬取网页、网页文件解析、分词和词频统计分别设计一个类。\n",
    "\n",
    "2. 请思考应该如何设计类和类的接口，使得程序的结构和逻辑更加清晰，并且是类中实现的代码有一定的可复用性。例如，使得爬取网页的类能够同时被用来完成抓取所有小说正文和对小说正文进行词频和人物出场次数统计两个不同的任务。除代码（需有一定注释）、需提交的网页/正文/词频统计信息文件之外，还需要提交一个文档，对类和类的接口设计进行简要说明。\n",
    "\n",
    "3. 类的设计和实现可以参考以下两个样例，并可以通过继承、组合等方式利用样例中实现的类完成作业要求的任务。\n",
    "\n",
    "4. 进行分词和人物出现次数统计时需要注意添加自定义词典，小说中主要人物列表可参考”金庸小说人物.txt”文件。\n",
    "\n",
    "5. 短时间内连续访问一个网站可能会触发网站的防护机制，导致网站拒绝相应后续HTML请求。在设计网页爬取代码时应该考虑这一点，避免短时间内发起大量请求。同时，在触发一个网站的保护机制，导致抓取无法进行时，可以自行选择其他站点抓取金庸小说。以下列出了几个可供选择的网站：\n",
    "\n",
    "https://www.jinyongwang.com/\n",
    "\n",
    "http://jinyong.zuopinj.com/\n",
    "\n",
    "http://jinyongxiaoshuo.com/\n",
    "\n",
    "6. 需要注意中文网页编码问题，在必要时人工指定正确的编码。\n"
   ]
  },
  {
   "cell_type": "markdown",
   "metadata": {},
   "source": [
    "## 样例1：获取网页html代码并提取出其中所有超链接"
   ]
  },
  {
   "cell_type": "code",
   "execution_count": 1,
   "metadata": {
    "tags": []
   },
   "outputs": [
    {
     "name": "stdout",
     "output_type": "stream",
     "text": [
      "Requirement already satisfied: requests in /Users/defaultstr/MyPythonRuntimes/python3env/lib/python3.7/site-packages (2.25.1)\n",
      "Requirement already satisfied: certifi>=2017.4.17 in /Users/defaultstr/MyPythonRuntimes/python3env/lib/python3.7/site-packages (from requests) (2020.12.5)\n",
      "Requirement already satisfied: idna<3,>=2.5 in /Users/defaultstr/MyPythonRuntimes/python3env/lib/python3.7/site-packages (from requests) (2.10)\n",
      "Requirement already satisfied: urllib3<1.27,>=1.21.1 in /Users/defaultstr/MyPythonRuntimes/python3env/lib/python3.7/site-packages (from requests) (1.26.4)\n",
      "Requirement already satisfied: chardet<5,>=3.0.2 in /Users/defaultstr/MyPythonRuntimes/python3env/lib/python3.7/site-packages (from requests) (4.0.0)\n",
      "\u001b[33mYou are using pip version 19.0.3, however version 21.0.1 is available.\n",
      "You should consider upgrading via the 'pip install --upgrade pip' command.\u001b[0m\n",
      "Requirement already satisfied: beautifulsoup4 in /Users/defaultstr/MyPythonRuntimes/python3env/lib/python3.7/site-packages (4.9.3)\n",
      "Requirement already satisfied: soupsieve>1.2; python_version >= \"3.0\" in /Users/defaultstr/MyPythonRuntimes/python3env/lib/python3.7/site-packages (from beautifulsoup4) (2.2.1)\n",
      "\u001b[33mYou are using pip version 19.0.3, however version 21.0.1 is available.\n",
      "You should consider upgrading via the 'pip install --upgrade pip' command.\u001b[0m\n"
     ]
    }
   ],
   "source": [
    "# 安装所需包\n",
    "!pip install requests\n",
    "!pip install beautifulsoup4"
   ]
  },
  {
   "cell_type": "code",
   "execution_count": 1,
   "metadata": {
    "tags": []
   },
   "outputs": [],
   "source": [
    "import requests\n",
    "from bs4 import BeautifulSoup\n",
    "import time\n",
    "\n",
    "class BasicAnalyzer(object):\n",
    "    \"\"\"\n",
    "    一个最基本的网页解析器，从response对象中获取text字段\n",
    "    \"\"\"\n",
    "    def parse(self, task_name, r): # 解析response\n",
    "        return r.text\n",
    "\n",
    "class Cralwer(object):\n",
    "    \"\"\"\n",
    "    一个用来爬取网页的类，其主要功能是依次抓取URL，并将返回的结果交给后续的解析器（Analyzer）进行处理。\n",
    "    \"\"\"\n",
    "    \n",
    "    def __init__(self, task_or_tasks, analyzer=BasicAnalyzer(), \n",
    "                 headers={}, timeout=30, encoding=None, wait_time=-1): \n",
    "        if isinstance(task_or_tasks, str):\n",
    "            self.tasks = [task_or_tasks]\n",
    "        if isinstance(task_or_tasks, list) or isinstance(task_or_tasks, tuple):\n",
    "            self.tasks = list(task_or_tasks)\n",
    "        print(self.tasks)\n",
    "        self.analyzer = analyzer\n",
    "        self.headers = headers\n",
    "        self.timeout = timeout\n",
    "        self.encoding = encoding\n",
    "        self.wait_time = wait_time\n",
    "        \n",
    "        # 用于保存抓取请求返回的状态码\n",
    "        self.response_codes = []\n",
    "        \n",
    "        # 用于遍历所有任务的迭代器\n",
    "        self.__iterator = iter(self.tasks)\n",
    "    \n",
    "    def add_tasks(self, task_or_tasks):\n",
    "        if isinstance(task_or_tasks, str):\n",
    "            self.tasks.append(task_or_tasks)\n",
    "        if isinstance(task_or_tasks, list) or isinstance(task_or_tasks, tuple):\n",
    "            self.tasks += list(task_or_tasks)\n",
    "    \n",
    "    def crawl(self):\n",
    "        \"\"\"\n",
    "        该方法会从任务序列中取出下一个抓取任务，调用__process_task方法进行抓取。\n",
    "        \"\"\"\n",
    "        task_uri = next(self.__iterator)\n",
    "        if self.wait_time > 0:\n",
    "            print(\"等待{}秒后开始抓取\".format(self.wait_time))\n",
    "            time.sleep(self.wait_time)\n",
    "        return self.__process_task(task_uri)\n",
    "            \n",
    "    def __process_task(self, task):\n",
    "        \"\"\"\n",
    "        完成task指定的抓取任务。\n",
    "        \"\"\"\n",
    "        if isinstance(task, str): # 如果task是一个字符串，那么task代表要抓取的网页URI\n",
    "            task_name = None\n",
    "        elif isinstance(task, tuple) and len(task) == 2: # 如果task是一个长度为2的元组，那么task表示（任务名，网页URI）\n",
    "            task_name, task = task\n",
    "        else: # 否则报错\n",
    "            raise ValueError(\"无法识别任务:{}\".format(task))\n",
    "        try:\n",
    "            print(task_name, task)\n",
    "            r = requests.get(task, headers=self.headers, timeout=self.timeout)\n",
    "            if self.encoding is not None:\n",
    "                r.encoding = self.encoding\n",
    "            self.response_codes.append((task_name, r.status_code))\n",
    "        except:\n",
    "            self.response_codes.append((task_name, None)) # 若遇到链接错误等问题，则此次任务的响应状态码为None\n",
    "            return None\n",
    "        return self.analyzer.parse(task_name, r) # 将response对象交给analyzer处理，这时会调用__call__方法\n",
    "\n",
    "    def __iter__(self):\n",
    "        \"\"\"\n",
    "        通过重载__iter__和__next__两个方法，可以使得我们能够通过类似for x in Crawler()这样的方式依次完成所有抓取任务。\n",
    "        __iter__会在循环遍历开始前被调用，这个方法应该返回一个可遍历对象。\n",
    "        由于实现了上述两个方法，Crawler对象本身就是一个可遍历对象，所以我们直接返回self。\n",
    "        \"\"\"\n",
    "        return self\n",
    "    \n",
    "    def __next__(self):\n",
    "        \"\"\"\n",
    "        __next__方法应该依次返回抓取的结果，因此我们调用crawl()方法，完成队列中的一个抓取任务，返回经过analyzer处理后的结果。\n",
    "        \"\"\"\n",
    "        return self.crawl()\n",
    "    \n",
    "    def crawl_all(self):\n",
    "        \"\"\"\n",
    "        完成所有抓取任务，将结果保存到一个list中返回。\n",
    "        这里我们直接使用列表推导式方法，循环完成抓取。\n",
    "        注意，这里能将self（即Crawler对象自身）用于列表推导式的原因是\n",
    "        Crawler对象是一个可遍历对象，即一个实现了__iter__和__next__特殊方法对象。\n",
    "        \"\"\"\n",
    "        return [result for result in self]\n",
    "\n",
    "        \n"
   ]
  },
  {
   "cell_type": "code",
   "execution_count": 3,
   "metadata": {
    "tags": []
   },
   "outputs": [
    {
     "name": "stdout",
     "output_type": "stream",
     "text": [
      "[('主页', 'http://jinyongxiaoshuo.com/')]\n",
      "等待2秒后开始抓取\n",
      "主页 http://jinyongxiaoshuo.com/\n"
     ]
    },
    {
     "data": {
      "text/plain": [
       "'<!DOCTYPE html>\\r\\n<html class=\"no-js\" lang=\"zh-CN\">\\r\\n<head>\\r\\n<meta charset=\"UTF-8\">\\r\\n<meta name=\"viewport\" content=\"width=device-width, initial-scale=1.0\">\\r\\n<meta http-equiv=\"Cache-Control\" content=\"no-transform\" />\\r\\n<meta http-equiv=\"Cache-Control\" content=\"no-siteapp\" />\\r\\n<title>金庸小说全集_金庸小说在线阅读第一站，金庸旧版、修订版、新修版小说全集在线阅读</title>\\r\\n<meta name=\"keywords\" content=\"金庸小说全集,金庸作品集,金庸小说全文在线阅读,金庸小说三联版,金庸小说修订版,金庸小说新修版\" />\\r\\n<meta name=\"description\" content=\"金庸小说全集，为您免费提供金庸(旧版、修订版、新修版)小说全集在线阅读。金庸小说全集是内容最齐全完整、最受读者欢迎的金庸小说在线阅读网站。喜欢金庸小说，请认准金庸小说全集网址：JinYongXiaoShuo.COM。\" />\\r\\n<link rel=\\'index\\' title=\\'金庸小说全集\\' href=\\'http://jinyongxiaoshuo.com\\' />\\r\\n<meta name=\"robots\" content=\"index,follow\"/>\\r\\n<link rel=\"profile\" href=\"http://gmpg.org/xfn/11\">\\r\\n<link rel=\"shortcut icon\" href=\"/css/img/favico.ico\" />\\r\\n<link rel=\"stylesheet\" href=\"/css/style.css\" type=\"text/css\" media=\"screen\" />\\r\\n<link rel=\"stylesheet\" media=\"screen and (max-width:600px)\" href=\"/css/mobile.css\" type=\"text/css\" />\\r\\n<script type=\"text/javascript\" src=\"/js/user.js\"></script>\\r\\n</head>\\r\\n<body>\\r\\n<div class=\"body-content\">\\r\\n\\t<header class=\"header\">\\r\\n\\t\\t<div class=\"menu-top container\">喜欢金庸小说全集小说的朋友请记住本站网址：<a href=\"http://jinyongxiaoshuo.com\" title=\"金庸小说全集\">JinYongXiaoShuo.COM</a>，<u><b>金庸小说</b></u>拼音全拼写。</div>\\r\\n\\t\\t<div class=\"container\" id=\"logo\">\\r\\n\\t\\t\\t<a href=\"http://jinyongxiaoshuo.com\" title=\"金庸小说全集\">金庸小说全集</a>\\r\\n\\t\\t\\t<span>免费在线阅读金庸小说，就到金庸小说全集网！<a href=\"http://jinyongxiaoshuo.com\" onclick=\"window.external.AddFavorite(\\'http://jinyongxiaoshuo.com\\',\\'金庸小说全集\\');return false;\" rel=\"sidebar\" style=\"color:#FF9900\">收藏本站</a></span>\\r\\n\\t\\t</div>\\r\\n\\t</header>\\r\\n\\t<div id=\"content\">\\r\\n\\t<div class=\"container main\">\\r\\n\\t    <div class=\"cat_box fengmian \">\\r\\n\\t<img alt=\"金庸小说全集\" height=\"229\" src=\"/css/img/jinyong.jpg\" width=\"175\" />\\r\\n\\t<div class=\"novel\">\\r\\n\\t\\t<h1><a href=\"/\" title=\"金庸小说全集\" target=\"_blank\">金庸小说全集</a>\\u3000<a href=\"/\" title=\"金庸小说全集\">JinYongXiaoShuo.COM</a></h1>\\r\\n\\t\\t<p>作者：金庸</p>\\r\\n\\t\\t<p>部数：15</p>\\r\\n\\t\\t<p>版本：<a href=\"/jiuban/\" title=\"旧版金庸小说全集\" target=\"_blank\">旧版</a>、<a href=\"/xiuding/\" title=\"修订版金庸小说全集\" target=\"_blank\">修订版</a>、<a href=\"/xinxiu/\" title=\"新修版金庸小说全集\" target=\"_blank\">新修版</a></p>\\r\\n\\t\\t<p>本站网页完美兼容PC、手机、平板等无障碍访问，网址均为：<a href=\"/\" title=\"金庸小说全集\">JinYongXiaoShuo.COM</a></p>\\r\\n\\t</div>\\r\\n\\t<div class=\"jianjie\">\\r\\n<p>金庸于31岁时（1955年）创作出了第一部武侠小说《<a href=\"/shujianenchoulu/\" title=\"书剑恩仇录在线阅读\" target=\"_blank\">书剑恩仇录</a>》，最后一部《<a href=\"/yuenvjian/\" title=\"越女剑在线阅读\" target=\"_blank\">越女剑</a>》则创作于1970年，15部长短篇小说写了15年（《<a href=\"/ludingji/\" title=\"鹿鼎记在线阅读\" target=\"_blank\">鹿鼎记</a>》于1972年连载完毕后，48岁的他宣布封笔）。其后，金庸又花了10年功夫，对作品进行逐字斟酌的全面修订，终于完成了15部共计36册的《<a href=\"/\" title=\"金庸作品集\" target=\"_blank\">金庸作品集</a>》。</p>\\r\\n<p><a href=\"/\" title=\"金庸小说全集\" target=\"_blank\">金庸小说全集</a>一共15部，它们可以由这几句话描述：\"<b>飞雪连天射白鹿，笑书神侠倚碧鸳。</b>\" 他们分别是：</p>\\r\\n<p><b>飞</b>－《<a href=\"/feihuwaizhuan/\" title=\"飞狐外传在线阅读\" target=\"_blank\">飞狐外传</a>》(1960—1961年)－－《<a href=\"/xueshanfeihu/\" title=\"雪山飞狐在线阅读\" target=\"_blank\">雪山飞狐</a>》前传</p>\\r\\n<p><b>雪</b>－《<a href=\"/xueshanfeihu/\" title=\"雪山飞狐在线阅读\" target=\"_blank\">雪山飞狐</a>》(1959年)－－《<a href=\"/xueshanfeihu/\" title=\"雪山飞狐在线阅读\" target=\"_blank\">雪山飞狐</a>》、《<a href=\"/feihuwaizhuan/\" title=\"飞狐外传在线阅读\" target=\"_blank\">飞狐外传</a>》是金庸现实主义最强的小说</p>\\r\\n<p><b>连</b>－《<a href=\"/lianchengjue/\" title=\"连城诀在线阅读\" target=\"_blank\">连城诀</a>》(1963年)－－强烈批判社会私欲、贪婪、无情的一面，同时也从屈指可数的几位善良人物身上表现友谊、爱情、济人、宽容。</p>\\r\\n<p><b>天</b>－《<a href=\"/tianlongbabu/\" title=\"天龙八部在线阅读\" target=\"_blank\">天龙八部</a>》(1963—1966年)－－倪匡曾代写其中约五万字，后修订了大部分。该篇是金庸哲学、内涵、人性、情节等的巅峰之作，亦是对\"人\"、\"谐\"、\"侠\"的统一性巨著。</p>\\r\\n<p><b>射</b>－《<a href=\"/shediaoyingxiongzhuan/\" title=\"射雕英雄传在线阅读\" target=\"_blank\">射雕英雄传</a>》(1957—1959年)－－\"射雕三步曲\"，有前后联系但不是系列，思想各异（分别是儒侠、道侠、佛侠），是\"侠之大者\"的诠释作。此为\"射雕三部曲\"之第一部曲，也是其成名作。</p>\\r\\n<p><b>白</b>－《<a href=\"/baimaxiaoxifeng/\" title=\"白马啸西风在线阅读\" target=\"_blank\">白马啸西风</a>》(1961年)－－附在《<a href=\"/xueshanfeihu/\" title=\"雪山飞狐在线阅读\" target=\"_blank\">雪山飞狐</a>》之后的中篇小说</p>\\r\\n<p><b>鹿</b>－《<a href=\"/ludingji/\" title=\"鹿鼎记在线阅读\" target=\"_blank\">鹿鼎记</a>》(1969—1972年)－－（封笔之作）封笔之作金庸巅峰之作，代表了金庸的最高成就。创立\"反武侠\"情节，武侠史首次以诙谐、反讽、批判观写作的巨著，代表了金庸小说艺术的最高成就。</p>\\r\\n<p><b>笑</b>－《<a href=\"/xiaoaojianghu/\" title=\"笑傲江湖在线阅读\" target=\"_blank\">笑傲江湖</a>》(1967年)－－折射政治斗争，同时也表露对斗争的哀叹。</p>\\r\\n<p><b>书</b>－《<a href=\"/shujianenchoulu/\" title=\"书剑恩仇录在线阅读\" target=\"_blank\">书剑恩仇录</a>》(1955年)－－第一部小说</p>\\r\\n<p><b>神</b>－《<a href=\"/shendiaoxialv/\" title=\"神雕侠侣在线阅读\" target=\"_blank\">神雕侠侣</a>》(1959—1961年)－－金庸\"射雕三部曲\"之第二部曲</p>\\r\\n<p><b>侠</b>－《<a href=\"/xiakexing/\" title=\"侠客行在线阅读\" target=\"_blank\">侠客行</a>》(1965年)－－小说主人公无明确名字，以\"石破天\"代称。该篇对人生寓言性与舐犊之情描写最甚，亲情性最强。</p>\\r\\n<p><b>倚</b>－《<a href=\"/yitiantulongji/\" title=\"倚天屠龙记在线阅读\" target=\"_blank\">倚天屠龙记</a>》(1961年)－－金庸\"射雕三部曲\"之第三部曲</p>\\r\\n<p><b>碧</b>－《<a href=\"/bixuejian/\" title=\"碧血剑在线阅读\" target=\"_blank\">碧血剑</a>》(1956年)－－(附录：袁崇焕评传）</p>\\r\\n<p><b>鸳</b>－《<a href=\"/yuanyangdao/\" title=\"鸳鸯刀在线阅读\" target=\"_blank\">鸳鸯刀</a>》(1961年)－－附在《<a href=\"/xueshanfeihu/\" title=\"雪山飞狐在线阅读\" target=\"_blank\">雪山飞狐</a>》之后的中篇小说</p>\\r\\n<p>《<a href=\"/yuenvjian/\" title=\"越女剑在线阅读\" target=\"_blank\">越女剑</a>》(1970年)－－附在《<a href=\"/xiakexing/\" title=\"侠客行在线阅读\" target=\"_blank\">侠客行</a>》之后的短篇小说。金庸本意为“卅三剑客图”各写一篇短篇小说，最后只完成了头一篇《<a href=\"/yuenvjian/\" title=\"越女剑在线阅读\" target=\"_blank\">越女剑</a>》，亦没有包含在对联之中。</p>\\r\\n<p>\\r\\n\\t</div>\\r\\n        </div>\\r\\n\\t    <div class=\"clear\"></div>\\r\\n\\t\\t<div class=\"ad_t\"><script type=\"text/javascript\" src=\"/js/ad01.js\"></script></div>\\r\\n\\r\\n\\t\\t<dl class=\"cat_box\">\\r\\n\\t\\t    <dt>金庸小说全集列表</dt>\\r\\n\\t\\t\\t<dd><a href=\"/shujianenchoulu/\" title=\"书剑恩仇录在线阅读\" target=\"_blank\"><b>书剑恩仇录</b></a><span> / 三联出版社（1980年）</span></dd>\\r\\n\\t\\t\\t<dd><a href=\"/bixuejian/\" title=\"碧血剑在线阅读\" target=\"_blank\"><b>碧血剑</b></a><span> / 三联出版社（1980年）</span></dd>\\r\\n\\t\\t\\t<dd><a href=\"/shediaoyingxiongzhuan/\" title=\"射雕英雄传在线阅读\" target=\"_blank\"><b>射雕英雄传</b></a><span> / 三联出版社（1980年）</span></dd>\\r\\n\\t\\t\\t<dd><a href=\"/xueshanfeihu/\" title=\"雪山飞狐在线阅读\" target=\"_blank\"><b>雪山飞狐</b></a><span> / 三联出版社（1980年）</span></dd>\\r\\n\\t\\t\\t<dd><a href=\"/shendiaoxialv/\" title=\"神雕侠侣在线阅读\" target=\"_blank\"><b>神雕侠侣</b></a><span> / 三联出版社（1980年）</span></dd>\\r\\n\\t\\t\\t<dd><a href=\"/feihuwaizhuan/\" title=\"飞狐外传在线阅读\" target=\"_blank\"><b>飞狐外传</b></a><span> / 三联出版社（1980年）</span></dd>\\r\\n\\t\\t\\t<dd><a href=\"/yuanyangdao/\" title=\"鸳鸯刀在线阅读\" target=\"_blank\"><b>鸳鸯刀</b></a><span> / 三联出版社（1980年）</span></dd>\\r\\n\\t\\t\\t<dd><a href=\"/yitiantulongji/\" title=\"倚天屠龙记在线阅读\" target=\"_blank\"><b>倚天屠龙记</b></a><span> / 三联出版社（1980年）</span></dd>\\r\\n\\t\\t\\t<dd><a href=\"/baimaxiaoxifeng/\" title=\"白马啸西风在线阅读\" target=\"_blank\"><b>白马啸西风</b></a><span> / 三联出版社（1980年）</span></dd>\\r\\n\\t\\t\\t<dd><a href=\"/lianchengjue/\" title=\"连城诀在线阅读\" target=\"_blank\"><b>连城诀</b></a><span> / 三联出版社（1980年）</span></dd>\\r\\n\\t\\t\\t<dd><a href=\"/tianlongbabu/\" title=\"天龙八部在线阅读\" target=\"_blank\"><b>天龙八部</b></a><span> / 三联出版社（1980年）</span></dd>\\r\\n\\t\\t\\t<dd><a href=\"/xiakexing/\" title=\"侠客行在线阅读\" target=\"_blank\"><b>侠客行</b></a><span> / 三联出版社（1980年）</span></dd>\\r\\n\\t\\t\\t<dd><a href=\"/xiaoaojianghu/\" title=\"笑傲江湖在线阅读\" target=\"_blank\"><b>笑傲江湖</b></a><span> / 三联出版社（1980年）</span></dd>\\r\\n\\t\\t\\t<dd><a href=\"/ludingji/\" title=\"鹿鼎记在线阅读\" target=\"_blank\"><b>鹿鼎记</b></a><span> / 三联出版社（1980年）</span></dd>\\r\\n\\t\\t\\t<dd><a href=\"/yuenvjian/\" title=\"越女剑在线阅读\" target=\"_blank\"><b>越女剑</b></a><span> / 三联出版社（1980年）</span></dd>\\r\\n\\t\\t</dl>\\r\\n\\r\\n<div class=\"ad_h\">\\r\\n\\t<div style=\"width:350px;padding:5px 5px 5px 12px;float:left;\">\\r\\n\\t\\t<script type=\"text/javascript\" src=\"/js/RD01.js\"></script>\\t</div>\\t\\r\\n\\t<div style=\"width:350px;padding:5px 5px 5px 12px;float:left;\">\\r\\n\\t\\t<script type=\"text/javascript\" src=\"/js/RD02.js\"></script>\\r\\n\\t</div>\\r\\n</div>\\r\\n<div class=\"tuijian\">\\r\\n<p class=\"huiwei\"><strong><font color=\"#FF9900\"><font size=\"2\">关于金庸小说的三大版本：</font></font></strong><br />\\r\\n\\u3000\\u3000金庸小说有三个版本：<a href=\"/jiuban/\" title=\"旧版金庸小说全集\" target=\"_blank\">旧版</a>（连载版）、<a href=\"/xiuding/\" title=\"修订版金庸小说全集\" target=\"_blank\">修订版</a>（新版、三联版）和<a href=\"/xinxiu/\" title=\"新修版金庸小说全集\" target=\"_blank\">新修版</a>。<br />\\u3000\\u30001955年至1972年的小说稿称为<a href=\"/jiuban/\" title=\"旧版金庸小说全集\" target=\"_blank\">旧版</a>，主要连载于报刊，故“旧版”，也称“连载版”。连载后的各小说又出现了许多没有版权的单行本，现大多已散佚（直至2000年后，金庸所有作品的旧版都被书迷完整整理出电子版）。<br />\\u3000\\u30001970年起，金庸着手修订所有作品，至1980年全部修订完毕；是为“<a href=\"/xiuding/\" title=\"修订版金庸小说全集\" target=\"_blank\">修订版</a>”，“新版”，冠以《<a href=\"/\" title=\"金庸作品集\" target=\"_blank\">金庸作品集</a>》之名，授权三联书店出版发行，“<a href=\"/xiuding/\" title=\"修订版金庸小说全集\" target=\"_blank\">修订版</a>”故俗称“新版”、“三联版”。<br />\\u3000\\u30001999年，金庸又开始修订小说，正名为“<a href=\"/xinxiu/\" title=\"新修版金庸小说全集\" target=\"_blank\">新修版</a>”，至今已全部修订完毕，分别授权大陆广州出版社、台湾远流出版社、香港明河社出版发行。<br />\\u3000\\u3000首页展示的版本为<a href=\"/xiuding/\" title=\"修订版金庸小说全集\" target=\"_blank\">修订版</a>，也称新版，三联版，流传最广，<b>首次阅读推荐阅读此版本</b>！其他版入口：<a href=\"/jiuban/\" title=\"旧版金庸小说全集\" target=\"_blank\">旧版</a>、<a href=\"/xinxiu/\" title=\"新修版金庸小说全集\" target=\"_blank\">新修版</a>。</p>\\r\\n</div>\\r\\n\\t    <div class=\"clear\"></div>\\r\\n\\t</div>\\r\\n</div>\\r\\n<div class=\"footer container\" id=\"footer\" >\\r\\n\\t<div class=\"cat_box\">\\r\\n\\t\\t<div class=\"xstitle\">友情链接</div>\\r\\n\\t\\t<ul class=\"link\">\\r\\n<li><a href=\"http://jinyongxiaoshuo.com/\" title=\"金庸小说全集\" target=\"_blank\">金庸小说全集</a></li>\\r\\n<li><a href=\"http://jinyongxiaoshuo.com/jinyongxiaoshuoshunxushunkouliu.html\" title=\"金庸小说顺序顺口溜\" target=\"_blank\">金庸小说顺序顺口溜</a></li>\\r\\n<li><a href=\"http://jinyongxiaoshuo.com/jinyongxiaoshuowugongpaiming.html\" title=\"金庸小说武功排名\" target=\"_blank\">金庸小说武功排名</a></li>\\r\\n<li><a href=\"http://jinyongxiaoshuo.com/jinyongxiaoshuopaiming.html\" title=\"金庸小说排名\" target=\"_blank\">金庸小说排名</a></li>\\r\\n<li><a href=\"http://chenpingjiangwan.com/\" title=\"陈平江婉全文免费阅读\" target=\"_blank\">陈平江婉全文免费阅读</a></li>\\r\\n<li><a href=\"http://renhuangji.com/\" title=\"人皇纪\" target=\"_blank\">人皇纪</a></li>\\r\\n<li><a href=\"http://zuijianvxu.com/\" title=\"最佳女婿\" target=\"_blank\">最佳女婿</a></li>\\r\\n<li><a href=\"http://hansanqian.com/\" title=\"韩三千苏迎夏最新章节\" target=\"_blank\">韩三千苏迎夏最新章节</a></li>\\r\\n<li><a href=\"http://daozhi.cn/\" title=\"万年历查询\" target=\"_blank\">万年历查询</a></li>\\r\\n<li><a href=\"http://www.shebao5.com/\" title=\"社保查询网\" target=\"_blank\">社保查询网</a></li>\\r\\n<li><a href=\"http://xingfa.org/\" title=\"刑法\" target=\"_blank\">刑法</a></li>\\r\\n<li><a href=\"http://1t.net.cn/\" title=\"CCTV13在线直播\" target=\"_blank\">CCTV13在线直播</a></li>\\r\\n<li><a href=\"http://www.qhsxzh.com/\" title=\"岐黄圣贤智慧\" target=\"_blank\">岐黄圣贤智慧</a></li>\\r\\n<li><a href=\\'http://www.sanxin.net.cn/\\' title=\\'同城约炮\\' target=\\'_blank\\'>同城约炮</a> </li>\\r\\n<li><a href=\"http://innovationstock.com/\" title=\"免费同城交友网\" target=\"_blank\">免费同城交友网</a></li>\\r\\n\\t\\t</ul>\\r\\n\\t</div>\\r\\n\\t<div class=\"copyright\">\\r\\n\\t<div>版权声明：金庸小说全集网所有小说版权永归原作者金庸所有，本站只做演示交流，请支持正版小说！本站上所演示小说均由金庸的铁杆粉丝提供上传，如无意中有侵犯您的版权，请联系站长邮箱(jinyongxiaoshuo@foxmail.com)告知。</div>\\r\\n\\t\\t\\tCopyright &copy; <a href=\"http://jinyongxiaoshuo.com\" title=\"金庸小说全集\"> 金庸小说全集 </a> by 金庸\\t<a href=\"/sitemap.xml\" title=\"SiteMap网站地图\">SiteMap</a><script type=\"text/javascript\" src=\"/js/tongji.js\"></script>\\t</div>\\r\\n</div>\\r\\n<!--cos-html-cache-safe-tag-->\\r\\n</div><!--body-content-->\\r\\n<script type=\\'text/javascript\\' src=\\'/js/wp-embed.min.js?ver=4.4.2\\'></script>\\r\\n<script type=\"text/javascript\" src=\"http://libs.baidu.com/jquery/1.9.0/jquery.js\" ></script>\\r\\n<script>window._bd_share_config={\"common\":{\"bdSnsKey\":{},\"bdText\":\"金庸小说全集在线阅读\",\"bdDesc\":\"金庸小说全集是内容最齐全完整、最受读者欢迎的金庸小说在线阅读网站。\",\"bdPic\":\"http://jinyongxiaoshuo.com/css/img/jinyong.jpg\",\"bdMini\":\"2\",\"bdMiniList\":false,\"bdStyle\":\"0\",\"bdSize\":\"32\"},\"share\":{}};with(document)0[(getElementsByTagName(\\'head\\')[0]||body).appendChild(createElement(\\'script\\')).src=\\'http://bdimg.share.baidu.com/static/api/js/share.js?v=89860593.js?cdnversion=\\'+~(-new Date()/36e5)];</script>\\r\\n<!-- 将此代码放在适当的位置，建议在body结束前 -->\\r\\n<script id=\"bdaddtocite_shell\"></script>\\r\\n<script>\\r\\nvar bdShare_config_addtocite = {\\r\\n\\t\"size\":\"medium\"\\r\\n\\t,\"uid\":\"6678484\"\\r\\n};\\r\\ndocument.getElementById(\"bdaddtocite_shell\").src=\"http://bdimg.share.baidu.com/static/js/addtocite_shell.js?t=\" + Math.ceil(new Date()/3600000);\\r\\n</script>\\t\\r\\n<!-- Baidu Button END -->\\r\\n<script type=\"text/javascript\">\\r\\n//返回顶端\\r\\n(function() {\\r\\nvar $backToTopTxt = \"返回顶部\", $backToTopEle = $(\\'<span id=\"gotopbtn\"></span>\\').appendTo($(\"body\"))\\r\\n.attr(\"title\", $backToTopTxt).click(function() {\\r\\n$(\"html, body\").animate({ scrollTop: 0 }, 120);\\r\\n}), $backToTopFun = function() {\\r\\nvar st = $(document).scrollTop(), winh = $(window).height();\\r\\n(st > 0)? $backToTopEle.show(): $backToTopEle.hide();\\r\\n//IE6下的定位\\r\\nif (!window.XMLHttpRequest) {\\r\\n$backToTopEle.css(\"top\", st + winh - 166);\\r\\n}\\r\\n};\\r\\n$(window).bind(\"scroll\", $backToTopFun);\\r\\n$(function() { $backToTopFun(); });\\r\\n})();\\r\\n</script>\\r\\n</body>\\r\\n</html>'"
      ]
     },
     "execution_count": 3,
     "metadata": {},
     "output_type": "execute_result"
    }
   ],
   "source": [
    "# 使用上述两个类配合，我们可以抓取一个网页\n",
    "c = Cralwer([('主页', 'http://jinyongxiaoshuo.com/')], encoding='utf8', wait_time=2)\n",
    "c.crawl()"
   ]
  },
  {
   "cell_type": "code",
   "execution_count": 4,
   "metadata": {},
   "outputs": [
    {
     "name": "stdout",
     "output_type": "stream",
     "text": [
      "['http://ai.ruc.edu.cn/overview/intro/index.htm']\n",
      "等待2秒后开始抓取\n",
      "None http://ai.ruc.edu.cn/overview/intro/index.htm\n"
     ]
    },
    {
     "data": {
      "text/plain": [
       "['“过去未去，未来已来”，在构建人工智能时代的宏大世界观时，在影响人工智能技术发展的历史趋势时，在吸纳和培养人工智能领域的顶尖学者和实践者时，中国人民大学高瓴人工智能学院应运而生，并将扮演至关重要的角色。\\n高瓴人工智能学院是中国人民大学下属学院，承担学校人工智能学科的规划与建设，开展本学科和相关交叉学科领域的本、硕、博人才培养和科学研究工作。学院由高瓴资本创始人兼首席执行官、耶鲁大学校董、中国人民大学校友张磊先生捐资支持建设。\\n高瓴人工智能学院学术委员会主任由中国工程院原常务副院长、国家新一代人工智能战略咨询委员会主任潘云鹤院士担任，执行院长由中国人民大学信息学院院长文继荣教授担任。\\n学院愿景\\n打造一所能够影响和塑造未来人工智能时代的世界一流学院，为全球思考并创造“智能而有温度”的未来。\\n发展目标\\n创新一流体制机制、打造一流师资队伍、培养一流专业人才、产出一流科研成果。\\n主要任务\\n推动人工智能基础理论和技术研究；探索建立新型交叉研究中心，促进人文社科与人工智能的深度融合；联合各界设立联合研究中心和实验室，与全球知名人工智能企业联合打造专项人才培养计划，鼓励创新和产业化，促进凝聚广泛共识的人工智能全球对话。']"
      ]
     },
     "execution_count": 4,
     "metadata": {},
     "output_type": "execute_result"
    }
   ],
   "source": [
    "# 我们可以通过继承BasicAnalyzer类，为其增添一些功能，例如，我们想获取高瓴人工智能学院官网的学院介绍\n",
    "class GSAIIntroductionAnalyzer(BasicAnalyzer):\n",
    "    \"\"\"\n",
    "    提取高瓴人工智能学院主页上的学院介绍内容。\n",
    "    \"\"\"\n",
    "    def parse(self, task_name, r): # 解析response\n",
    "        html_text = super().parse(task_name, r)\n",
    "        soup = BeautifulSoup(html_text)\n",
    "        # 如何查找正文需要针对要抓取的网页单独设计\n",
    "        # 可以通过查看源文件和浏览器”审查元素“等功能查看网页结构\n",
    "        # 然后按照标签名称、id和class属性、标签在解析树上的位置等方式设计相应的方法查找到所需要的元素。\n",
    "        parsed_text = \"\\n\".join(\n",
    "            [p.string for p in soup.find('div', class_=\"fr\").find_all('p') \n",
    "                       if p.string is not None]\n",
    "        )\n",
    "        return parsed_text\n",
    "    \n",
    "c = Cralwer([\"http://ai.ruc.edu.cn/overview/intro/index.htm\"], \n",
    "            analyzer=GSAIIntroductionAnalyzer(),\n",
    "            headers={'user-agent': 'my-app/0.0.1'}, \n",
    "            encoding='utf8',\n",
    "            wait_time=2\n",
    "           )\n",
    "c.crawl_all()\n"
   ]
  },
  {
   "cell_type": "code",
   "execution_count": 5,
   "metadata": {
    "tags": []
   },
   "outputs": [
    {
     "name": "stdout",
     "output_type": "stream",
     "text": [
      "['http://jinyong.zuopinj.com/']\n",
      "等待2秒后开始抓取\n",
      "None http://jinyong.zuopinj.com/\n"
     ]
    },
    {
     "data": {
      "text/plain": [
       "[None]"
      ]
     },
     "execution_count": 5,
     "metadata": {},
     "output_type": "execute_result"
    }
   ],
   "source": [
    "# 我们也可以获取页面上所有的链接，把他们输出到一个csv文件\n",
    "class LinkAnalyzer(BasicAnalyzer):\n",
    "    def __init__(self, filename, encodings=None):\n",
    "        \n",
    "        self.filename = filename\n",
    "        \n",
    "    def parse(self, task_name, r):\n",
    "        html_text = super().parse(task_name, r)\n",
    "        soup = BeautifulSoup(html_text, 'html.parser') # 使用自带的解析器，解析上述html文档\n",
    "        with open(self.filename, 'w') as fout:\n",
    "            fout.write(\"锚文本,超链接\\n\")\n",
    "            for tag in soup.find_all('a'):\n",
    "                if tag.string is not None:\n",
    "                    fout.write(\"{},{}\\n\".format(tag.string, tag.get('href', None)))\n",
    "        \n",
    "c = Cralwer([\"http://jinyong.zuopinj.com/\"], \n",
    "            analyzer=LinkAnalyzer('links.csv'),\n",
    "            encoding='utf8',\n",
    "            wait_time=2\n",
    "           )\n",
    "c.crawl_all()"
   ]
  },
  {
   "cell_type": "markdown",
   "metadata": {},
   "source": [
    "## 样例2：抓取多个网页并保存到本地"
   ]
  },
  {
   "cell_type": "code",
   "execution_count": null,
   "metadata": {
    "tags": []
   },
   "outputs": [
    {
     "name": "stdout",
     "output_type": "stream",
     "text": [
      "[('金庸作品集', 'http://jinyong.zuopinj.com/'), ('侠客行', 'http://jinyong.zuopinj.com/12/'), ('书剑恩仇录', 'http://jinyong.zuopinj.com/10/'), ('倚天屠龙记', 'http://jinyong.zuopinj.com/7/'), ('笑傲江湖', 'http://jinyong.zuopinj.com/5/'), ('神雕侠侣', 'http://jinyong.zuopinj.com/4/'), ('鹿鼎记', 'http://jinyong.zuopinj.com/3/'), ('天龙八部', 'http://jinyong.zuopinj.com/2/'), ('射雕英雄传', 'http://jinyong.zuopinj.com/1/'), ('鸳鸯刀', 'http://jinyong.zuopinj.com/15/'), ('越女剑', 'http://jinyong.zuopinj.com/14/'), ('白马啸西风', 'http://jinyong.zuopinj.com/13/'), ('侠客行', 'http://jinyong.zuopinj.com/12/'), ('连城诀', 'http://jinyong.zuopinj.com/11/'), ('书剑恩仇录', 'http://jinyong.zuopinj.com/10/'), ('雪山飞狐', 'http://jinyong.zuopinj.com/9/'), ('飞狐外传', 'http://jinyong.zuopinj.com/8/'), ('倚天屠龙记', 'http://jinyong.zuopinj.com/7/'), ('碧血剑', 'http://jinyong.zuopinj.com/6/'), ('笑傲江湖', 'http://jinyong.zuopinj.com/5/'), ('神雕侠侣', 'http://jinyong.zuopinj.com/4/'), ('鹿鼎记', 'http://jinyong.zuopinj.com/3/'), ('天龙八部', 'http://jinyong.zuopinj.com/2/'), ('射雕英雄传', 'http://jinyong.zuopinj.com/1/'), ('鸳鸯刀', 'http://jinyong.zuopinj.com/15/'), ('越女剑', 'http://jinyong.zuopinj.com/14/')]\n",
      "等待2秒后开始抓取\n",
      "金庸作品集 http://jinyong.zuopinj.com/\n",
      "等待2秒后开始抓取\n",
      "侠客行 http://jinyong.zuopinj.com/12/\n",
      "等待2秒后开始抓取\n",
      "书剑恩仇录 http://jinyong.zuopinj.com/10/\n",
      "等待2秒后开始抓取\n",
      "倚天屠龙记 http://jinyong.zuopinj.com/7/\n",
      "等待2秒后开始抓取\n",
      "笑傲江湖 http://jinyong.zuopinj.com/5/\n",
      "等待2秒后开始抓取\n",
      "神雕侠侣 http://jinyong.zuopinj.com/4/\n",
      "等待2秒后开始抓取\n",
      "鹿鼎记 http://jinyong.zuopinj.com/3/\n",
      "等待2秒后开始抓取\n",
      "天龙八部 http://jinyong.zuopinj.com/2/\n",
      "等待2秒后开始抓取\n",
      "射雕英雄传 http://jinyong.zuopinj.com/1/\n",
      "等待2秒后开始抓取\n",
      "鸳鸯刀 http://jinyong.zuopinj.com/15/\n",
      "等待2秒后开始抓取\n"
     ]
    }
   ],
   "source": [
    "# 我们还可以把所有页面都依次抓取下来并保存到文件里\n",
    "import os\n",
    "\n",
    "class FileStorageAnalyzer(BasicAnalyzer):\n",
    "    def __init__(self, dir_path):\n",
    "        self.dir_path = dir_path\n",
    "        self.cnt = 0\n",
    "    \n",
    "    def parse(self, task_name, r):\n",
    "        html_text = super().parse(task_name, r) # 调用父类，获取html text\n",
    "        \n",
    "        # 将其保存到文件\n",
    "        if task_name is not None and isinstance(task_name, str):\n",
    "            file_path = os.path.join(self.dir_path, \"{}.html\".format(task_name))\n",
    "        else:\n",
    "            file_path = os.path.join(self.dir_path, \"{0:04}.html\".format(self.cnt))\n",
    "            self.cnt += 1\n",
    "        with open(file_path, 'w') as fout:\n",
    "                fout.write(html_text)\n",
    "        return html_text\n",
    "\n",
    "tasks = []\n",
    "with open(\"links.csv\", 'r') as fin: # 注意这里的links.csv文件是上一个cell运行后生成的文件。\n",
    "    header = fin.readline()\n",
    "    for line in fin:\n",
    "        name, uri = line.strip().split(',')\n",
    "        if uri.startswith('http://jinyong.zuopinj.com/'):\n",
    "            tasks.append((name, uri))\n",
    "        \n",
    "c = Cralwer(tasks, analyzer=FileStorageAnalyzer(\"book_pages/\"), wait_time=2, encoding='utf8')\n",
    "c.crawl_all()\n",
    "print(c.response_codes)"
   ]
  },
  {
   "cell_type": "code",
   "execution_count": null,
   "metadata": {},
   "outputs": [],
   "source": []
  }
 ],
 "metadata": {
  "kernelspec": {
   "display_name": "Python 3",
   "language": "python",
   "name": "python3"
  },
  "language_info": {
   "codemirror_mode": {
    "name": "ipython",
    "version": 3
   },
   "file_extension": ".py",
   "mimetype": "text/x-python",
   "name": "python",
   "nbconvert_exporter": "python",
   "pygments_lexer": "ipython3",
   "version": "3.8.3"
  },
  "toc": {
   "base_numbering": 1,
   "nav_menu": {},
   "number_sections": true,
   "sideBar": true,
   "skip_h1_title": false,
   "title_cell": "Table of Contents",
   "title_sidebar": "Contents",
   "toc_cell": false,
   "toc_position": {},
   "toc_section_display": true,
   "toc_window_display": false
  }
 },
 "nbformat": 4,
 "nbformat_minor": 5
}
